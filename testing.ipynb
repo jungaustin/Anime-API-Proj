{
 "cells": [
  {
   "cell_type": "code",
   "execution_count": 1,
   "id": "0b55c109-a636-4499-a987-53709eef83be",
   "metadata": {},
   "outputs": [],
   "source": [
    "import sqlite3\n",
    "import pandas as pd"
   ]
  },
  {
   "cell_type": "code",
   "execution_count": 2,
   "id": "409e0d9e-5e42-4f65-8dba-1fafb3e5651d",
   "metadata": {},
   "outputs": [],
   "source": [
    "conn = sqlite3.connect('anime_data.db')"
   ]
  },
  {
   "cell_type": "code",
   "execution_count": 3,
   "id": "fc1cb7cd-c50e-4296-b999-ca45a251d883",
   "metadata": {},
   "outputs": [],
   "source": [
    "df = pd.read_sql_query(\"SELECT * FROM anime\", conn)"
   ]
  },
  {
   "cell_type": "code",
   "execution_count": null,
   "id": "04d7ac13-ab87-486c-a01c-ad3a6f2028a7",
   "metadata": {},
   "outputs": [],
   "source": []
  }
 ],
 "metadata": {
  "kernelspec": {
   "display_name": "Python 3 (ipykernel)",
   "language": "python",
   "name": "python3"
  },
  "language_info": {
   "codemirror_mode": {
    "name": "ipython",
    "version": 3
   },
   "file_extension": ".py",
   "mimetype": "text/x-python",
   "name": "python",
   "nbconvert_exporter": "python",
   "pygments_lexer": "ipython3",
   "version": "3.11.5"
  }
 },
 "nbformat": 4,
 "nbformat_minor": 5
}
