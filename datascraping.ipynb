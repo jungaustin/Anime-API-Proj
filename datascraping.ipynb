{
 "cells": [
  {
   "cell_type": "code",
   "execution_count": 13,
   "id": "39323564-ef41-4d0d-8a39-fbae774946f7",
   "metadata": {},
   "outputs": [],
   "source": [
    "import pandas as pd"
   ]
  },
  {
   "cell_type": "code",
   "execution_count": 14,
   "id": "50266ad7-8f35-48e3-ae4b-6b3819861ca1",
   "metadata": {},
   "outputs": [],
   "source": [
    "from jikanpy import Jikan\n",
    "import sqlite3\n",
    "import time"
   ]
  },
  {
   "cell_type": "code",
   "execution_count": 15,
   "id": "b0c1d9b2-9082-414a-b1a4-1f7aa1a69d01",
   "metadata": {},
   "outputs": [],
   "source": [
    "jikan = Jikan()\n",
    "conn = sqlite3.connect(\"anime_data.db\")\n",
    "cursor = conn.cursor()"
   ]
  },
  {
   "cell_type": "code",
   "execution_count": 18,
   "id": "8f5d604c-0882-4ad0-a637-ae557a1e23ae",
   "metadata": {},
   "outputs": [
    {
     "data": {
      "text/plain": [
       "<sqlite3.Cursor at 0x118df72c0>"
      ]
     },
     "execution_count": 18,
     "metadata": {},
     "output_type": "execute_result"
    }
   ],
   "source": [
    "# cursor.execute('''\n",
    "#     DROP TABLE anime\n",
    "#     '''\n",
    "# )"
   ]
  },
  {
   "cell_type": "code",
   "execution_count": 21,
   "id": "26ba3e94-d8b4-455b-a90a-a70f8402d73c",
   "metadata": {},
   "outputs": [
    {
     "data": {
      "text/plain": [
       "<sqlite3.Cursor at 0x118df72c0>"
      ]
     },
     "execution_count": 21,
     "metadata": {},
     "output_type": "execute_result"
    }
   ],
   "source": [
    "cursor.execute('''\n",
    "    CREATE TABLE IF NOT EXISTS anime (\n",
    "        mal_id INTEGER PRIMARY KEY,\n",
    "        title TEXT,\n",
    "        title_english TEXT,\n",
    "        source TEXT,\n",
    "        episode_count INTEGER,\n",
    "        rating REAL,\n",
    "        score REAL,\n",
    "        scored_by INTEGER,\n",
    "        popularity INTEGER,\n",
    "        synopsis TEXT,\n",
    "        genres TEXT,\n",
    "        themes TEXT,\n",
    "        demographics TEXT,\n",
    "        type TEXT\n",
    "    )\n",
    "    '''\n",
    ")"
   ]
  },
  {
   "cell_type": "code",
   "execution_count": 41,
   "id": "3c9842a8-5bbd-44e2-b8b4-0cdd41acb92a",
   "metadata": {},
   "outputs": [],
   "source": [
    "ani_list = []"
   ]
  },
  {
   "cell_type": "code",
   "execution_count": 6,
   "id": "00043a19-48a2-4f85-b913-99c798cd66c5",
   "metadata": {
    "scrolled": true
   },
   "outputs": [],
   "source": [
    "jikan = Jikan(selected_base=\"https://api.jikan.moe/v4\")\n",
    "jikan.top(\"anime\")"
   ]
  },
  {
   "cell_type": "code",
   "execution_count": 42,
   "id": "e3ae2570-9697-44a6-9435-9da26dc669ca",
   "metadata": {
    "scrolled": true
   },
   "outputs": [
    {
     "name": "stdout",
     "output_type": "stream",
     "text": [
      "1\n",
      "2\n",
      "3\n",
      "4\n",
      "5\n",
      "6\n",
      "7\n",
      "8\n",
      "9\n",
      "10\n",
      "11\n",
      "12\n",
      "13\n",
      "14\n",
      "15\n",
      "16\n",
      "17\n",
      "18\n",
      "19\n",
      "20\n",
      "21\n",
      "22\n",
      "23\n",
      "24\n",
      "25\n",
      "26\n",
      "27\n",
      "28\n",
      "29\n",
      "30\n",
      "31\n",
      "32\n",
      "33\n",
      "34\n",
      "35\n",
      "36\n",
      "37\n",
      "38\n",
      "39\n",
      "40\n",
      "41\n",
      "42\n",
      "43\n",
      "44\n",
      "45\n",
      "46\n",
      "47\n",
      "48\n",
      "49\n",
      "50\n",
      "51\n",
      "52\n",
      "53\n",
      "54\n",
      "55\n",
      "56\n",
      "57\n",
      "58\n",
      "59\n",
      "60\n",
      "61\n",
      "62\n",
      "63\n",
      "64\n",
      "65\n",
      "66\n",
      "67\n",
      "68\n",
      "69\n",
      "70\n",
      "71\n",
      "72\n",
      "73\n",
      "74\n",
      "75\n",
      "76\n",
      "77\n",
      "78\n",
      "79\n",
      "80\n",
      "81\n",
      "82\n",
      "83\n",
      "84\n",
      "85\n",
      "86\n",
      "87\n",
      "88\n",
      "89\n",
      "90\n",
      "91\n",
      "92\n",
      "93\n",
      "94\n",
      "95\n",
      "96\n",
      "97\n",
      "98\n",
      "99\n",
      "100\n",
      "101\n",
      "102\n",
      "103\n",
      "104\n",
      "105\n",
      "106\n",
      "107\n",
      "108\n",
      "109\n",
      "110\n",
      "111\n",
      "112\n",
      "113\n",
      "114\n",
      "115\n",
      "116\n",
      "117\n",
      "118\n",
      "119\n",
      "120\n",
      "121\n",
      "122\n",
      "123\n",
      "124\n",
      "125\n",
      "126\n",
      "127\n",
      "128\n",
      "129\n",
      "130\n",
      "131\n",
      "132\n",
      "133\n",
      "134\n",
      "135\n",
      "136\n",
      "137\n",
      "138\n",
      "139\n",
      "140\n",
      "141\n",
      "142\n",
      "143\n",
      "144\n",
      "145\n",
      "146\n",
      "147\n",
      "148\n",
      "149\n",
      "150\n",
      "151\n",
      "152\n",
      "153\n",
      "154\n",
      "155\n",
      "156\n",
      "157\n",
      "158\n",
      "159\n",
      "160\n",
      "161\n",
      "162\n",
      "163\n",
      "164\n",
      "165\n",
      "166\n",
      "167\n",
      "168\n",
      "169\n",
      "170\n",
      "171\n",
      "172\n",
      "173\n",
      "174\n",
      "175\n",
      "176\n",
      "177\n",
      "178\n",
      "179\n",
      "180\n",
      "181\n",
      "182\n",
      "183\n",
      "184\n",
      "185\n",
      "186\n",
      "187\n",
      "188\n",
      "189\n",
      "190\n",
      "191\n",
      "192\n",
      "193\n",
      "194\n",
      "195\n",
      "196\n",
      "197\n",
      "198\n",
      "199\n"
     ]
    }
   ],
   "source": [
    "for page in range(1,200):\n",
    "    try:\n",
    "        response = jikan.top(type = 'anime', page = page)\n",
    "        print(page)\n",
    "        for anime in response['data']:\n",
    "            ani_list.append((\n",
    "                anime['mal_id'],\n",
    "                anime['title'],\n",
    "                anime['title_english'],\n",
    "                anime['source'],\n",
    "                anime['episodes'],\n",
    "                anime['rating'],\n",
    "                anime['score'],\n",
    "                anime['scored_by'],\n",
    "                anime['popularity'],\n",
    "                anime['synopsis'],\n",
    "                \", \".join(g['name'] for g in anime['genres']),\n",
    "                \", \".join(g['name'] for g in anime['themes']),\n",
    "                \", \".join(g['name'] for g in anime['demographics']),\n",
    "                anime['type'],\n",
    "            ))\n",
    "        time.sleep(1)\n",
    "    except Exception as e:\n",
    "        print(f\"Error on page {page}: {e}\")\n",
    "        break   "
   ]
  },
  {
   "cell_type": "code",
   "execution_count": 43,
   "id": "b886c499-b3b0-4a2f-a1ec-3102c4453efe",
   "metadata": {},
   "outputs": [],
   "source": [
    "cursor.executemany(\"INSERT OR REPLACE INTO anime VALUES(?, ?, ?, ?, ?, ?, ?, ?, ?, ?, ?, ?, ?, ?)\", ani_list)\n",
    "conn.commit()"
   ]
  },
  {
   "cell_type": "code",
   "execution_count": 44,
   "id": "cca2ed09-5b80-4f41-9292-9ad71dc0ff61",
   "metadata": {},
   "outputs": [
    {
     "name": "stdout",
     "output_type": "stream",
     "text": [
      "4975\n"
     ]
    }
   ],
   "source": [
    "print(len(ani_list))"
   ]
  },
  {
   "cell_type": "code",
   "execution_count": null,
   "id": "6cb8f6d8-212f-4b82-adaf-315c77406348",
   "metadata": {},
   "outputs": [],
   "source": [
    "\n",
    "conn.close()"
   ]
  }
 ],
 "metadata": {
  "kernelspec": {
   "display_name": "Python 3 (ipykernel)",
   "language": "python",
   "name": "python3"
  },
  "language_info": {
   "codemirror_mode": {
    "name": "ipython",
    "version": 3
   },
   "file_extension": ".py",
   "mimetype": "text/x-python",
   "name": "python",
   "nbconvert_exporter": "python",
   "pygments_lexer": "ipython3",
   "version": "3.11.5"
  }
 },
 "nbformat": 4,
 "nbformat_minor": 5
}
